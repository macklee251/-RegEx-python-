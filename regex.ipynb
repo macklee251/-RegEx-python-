{
 "cells": [
  {
   "cell_type": "code",
   "execution_count": 1,
   "metadata": {},
   "outputs": [],
   "source": [
    "import re"
   ]
  },
  {
   "cell_type": "markdown",
   "metadata": {},
   "source": [
    "<h5>\n",
    "    As RegEx servem  determinado texto contém aquele padrão.\n",
    "</h5>"
   ]
  },
  {
   "cell_type": "markdown",
   "metadata": {},
   "source": [
    "<ul>\n",
    "    <li> pattern = re.compile() cria um padrão de string</li>\n",
    "    <li> re.fullmatch(patters, text) verifica se o padão corresponte exatamente a string/texto</li>\n",
    "    <li>re.search(pattern, text) retorna a primeira correspondência do padrão na string</li>\n",
    "    <li>re.findall(pattern, text) retorna todas as vezes na qual o padrão aparece</li>\n",
    "    <br>\n",
    "    <li> . representa qualquer caracter menos o \\n. Caso queiramos representar o ponto usamos \\.</li>\n",
    "    <li> ^ defini qual deve ser a primeira letra da string</li>\n",
    "    <li> $ defini qual deve ser a ultima palavra da string</li>\n",
    "    <li> [] Defini um conjunto</li>\n",
    "    <li> [^] diferente de</li>\n",
    "    <li>\\w verifica se é alfanum</li>\n",
    "    <li>\\W verifica se não é alfanum</li>\n",
    "    <li>\\s Represendo o caracter vazio</li>\n",
    "    <li>\\S Represendo o caracter não vazio</li>\n",
    "    <li>\\d representa um número entre 0 e 9</li>\n",
    "    <li>\\D representa um nuúmero que não está entre 0 e 9</li>\n",
    "    <li> + uma ou mais</li>\n",
    "    <li> * zero ou mais vezes</li>\n",
    "    <li> ? zero ou um</li>\n",
    "    <li> {x} x vezes</li>\n",
    "    <li>{x, y} minimo de x e maximo de y</li>\n",
    "</ul>"
   ]
  },
  {
   "cell_type": "code",
   "execution_count": 168,
   "metadata": {},
   "outputs": [],
   "source": [
    "pattern = re.compile(\"$\")\n",
    "text = (\"allison12/3z3/4\")\n",
    "re.search(pattern, text)"
   ]
  },
  {
   "cell_type": "code",
   "execution_count": null,
   "metadata": {},
   "outputs": [],
   "source": []
  }
 ],
 "metadata": {
  "kernelspec": {
   "display_name": "Python 3",
   "language": "python",
   "name": "python3"
  },
  "language_info": {
   "codemirror_mode": {
    "name": "ipython",
    "version": 3
   },
   "file_extension": ".py",
   "mimetype": "text/x-python",
   "name": "python",
   "nbconvert_exporter": "python",
   "pygments_lexer": "ipython3",
   "version": "3.12.0"
  }
 },
 "nbformat": 4,
 "nbformat_minor": 2
}
